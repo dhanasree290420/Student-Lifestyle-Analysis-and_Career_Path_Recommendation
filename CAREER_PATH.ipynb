{
 "cells": [
  {
   "cell_type": "code",
   "execution_count": 5,
   "id": "9ed0e353-0f3f-4941-9133-0f91871a5b00",
   "metadata": {},
   "outputs": [
    {
     "data": {
      "text/html": [
       "<div>\n",
       "<style scoped>\n",
       "    .dataframe tbody tr th:only-of-type {\n",
       "        vertical-align: middle;\n",
       "    }\n",
       "\n",
       "    .dataframe tbody tr th {\n",
       "        vertical-align: top;\n",
       "    }\n",
       "\n",
       "    .dataframe thead th {\n",
       "        text-align: right;\n",
       "    }\n",
       "</style>\n",
       "<table border=\"1\" class=\"dataframe\">\n",
       "  <thead>\n",
       "    <tr style=\"text-align: right;\">\n",
       "      <th></th>\n",
       "      <th>Timestamp</th>\n",
       "      <th>Email Address</th>\n",
       "      <th>What kind of tasks do you enjoy the most?</th>\n",
       "      <th>Do you prefer working...</th>\n",
       "      <th>Which area are you most interested in as a career?</th>\n",
       "    </tr>\n",
       "  </thead>\n",
       "  <tbody>\n",
       "    <tr>\n",
       "      <th>0</th>\n",
       "      <td>2025-06-30 19:45:05.138</td>\n",
       "      <td>dhanasreesudhakar29@gmail.com</td>\n",
       "      <td>Teaching or helping others</td>\n",
       "      <td>Both</td>\n",
       "      <td>Teaching / Academia</td>\n",
       "    </tr>\n",
       "    <tr>\n",
       "      <th>1</th>\n",
       "      <td>2025-06-30 19:49:33.119</td>\n",
       "      <td>kothaharsh@gmail.com</td>\n",
       "      <td>Managing or leading a team</td>\n",
       "      <td>Both</td>\n",
       "      <td>Business or Management</td>\n",
       "    </tr>\n",
       "    <tr>\n",
       "      <th>2</th>\n",
       "      <td>2025-06-30 19:53:48.276</td>\n",
       "      <td>banothnandhini2005@gmail.com</td>\n",
       "      <td>Analyzing data</td>\n",
       "      <td>In a team</td>\n",
       "      <td>Data Science / Analytics</td>\n",
       "    </tr>\n",
       "    <tr>\n",
       "      <th>3</th>\n",
       "      <td>2025-06-30 19:55:27.092</td>\n",
       "      <td>vattipallypoojithasri@gmail.com</td>\n",
       "      <td>Analyzing data</td>\n",
       "      <td>Both</td>\n",
       "      <td>Data Science / Analytics</td>\n",
       "    </tr>\n",
       "    <tr>\n",
       "      <th>4</th>\n",
       "      <td>2025-06-30 19:56:20.696</td>\n",
       "      <td>kothaharsh@gmail.com</td>\n",
       "      <td>Solving problems, Teaching or helping others, ...</td>\n",
       "      <td>Both</td>\n",
       "      <td>Data Science / Analytics, Business or Management</td>\n",
       "    </tr>\n",
       "  </tbody>\n",
       "</table>\n",
       "</div>"
      ],
      "text/plain": [
       "                Timestamp                    Email Address  \\\n",
       "0 2025-06-30 19:45:05.138    dhanasreesudhakar29@gmail.com   \n",
       "1 2025-06-30 19:49:33.119             kothaharsh@gmail.com   \n",
       "2 2025-06-30 19:53:48.276     banothnandhini2005@gmail.com   \n",
       "3 2025-06-30 19:55:27.092  vattipallypoojithasri@gmail.com   \n",
       "4 2025-06-30 19:56:20.696             kothaharsh@gmail.com   \n",
       "\n",
       "         What kind of tasks do you enjoy the most?    \\\n",
       "0                         Teaching or helping others   \n",
       "1                         Managing or leading a team   \n",
       "2                                     Analyzing data   \n",
       "3                                     Analyzing data   \n",
       "4  Solving problems, Teaching or helping others, ...   \n",
       "\n",
       "  Do you prefer working...   \\\n",
       "0                      Both   \n",
       "1                      Both   \n",
       "2                 In a team   \n",
       "3                      Both   \n",
       "4                      Both   \n",
       "\n",
       "  Which area are you most interested in as a career?    \n",
       "0                                Teaching / Academia    \n",
       "1                             Business or Management    \n",
       "2                           Data Science / Analytics    \n",
       "3                           Data Science / Analytics    \n",
       "4   Data Science / Analytics, Business or Management    "
      ]
     },
     "execution_count": 5,
     "metadata": {},
     "output_type": "execute_result"
    }
   ],
   "source": [
    "import pandas as pd\n",
    "\n",
    "# Load the second form data\n",
    "df2 = pd.read_excel(\"career_interest_data.xlsx\")\n",
    "\n",
    "# Show first few rows\n",
    "df2.head()\n"
   ]
  },
  {
   "cell_type": "code",
   "execution_count": 6,
   "id": "d94e4802-0656-4b65-a719-4c6a7b7e80fc",
   "metadata": {},
   "outputs": [
    {
     "data": {
      "text/plain": [
       "['Timestamp',\n",
       " 'Email Address',\n",
       " 'What kind of tasks do you enjoy the most?  ',\n",
       " 'Do you prefer working... ',\n",
       " 'Which area are you most interested in as a career?  ']"
      ]
     },
     "execution_count": 6,
     "metadata": {},
     "output_type": "execute_result"
    }
   ],
   "source": [
    "df2.columns.tolist()\n"
   ]
  },
  {
   "cell_type": "code",
   "execution_count": 7,
   "id": "68210127-a0ba-4a2e-8f79-29cd7cff7c03",
   "metadata": {},
   "outputs": [],
   "source": [
    "df2.columns = df2.columns.str.strip()\n"
   ]
  },
  {
   "cell_type": "code",
   "execution_count": 8,
   "id": "3b20248e-0cf6-4e3b-aaf3-1b751df960ab",
   "metadata": {},
   "outputs": [],
   "source": [
    "df2.rename(columns={\n",
    "    \"What kind of tasks do you enjoy the most?\": \"TasksEnjoyed\",\n",
    "    \"Do you prefer working...\": \"WorkPreference\",\n",
    "    \"Which area are you most interested in as a career?\": \"CareerInterest\"\n",
    "}, inplace=True)\n"
   ]
  },
  {
   "cell_type": "code",
   "execution_count": 9,
   "id": "441acf16-79fa-4c0d-9267-600ea6a4ed2d",
   "metadata": {},
   "outputs": [
    {
     "data": {
      "text/plain": [
       "['Timestamp',\n",
       " 'Email Address',\n",
       " 'TasksEnjoyed',\n",
       " 'WorkPreference',\n",
       " 'CareerInterest']"
      ]
     },
     "execution_count": 9,
     "metadata": {},
     "output_type": "execute_result"
    }
   ],
   "source": [
    "df2.columns.tolist()\n"
   ]
  },
  {
   "cell_type": "code",
   "execution_count": 10,
   "id": "f275c596-465d-41b3-b01c-213cdbc38c4f",
   "metadata": {},
   "outputs": [],
   "source": [
    "def recommend_career(row):\n",
    "    tasks = row[\"TasksEnjoyed\"].lower()\n",
    "    work = row[\"WorkPreference\"].lower()\n",
    "    interest = row[\"CareerInterest\"].lower()\n",
    "    \n",
    "    if \"analyzing data\" in tasks or \"data\" in interest:\n",
    "        return \"Data Analyst\"\n",
    "    elif \"solving problems\" in tasks or \"software\" in interest:\n",
    "        return \"Software Developer\"\n",
    "    elif \"creative\" in tasks or \"design\" in interest:\n",
    "        return \"UI/UX Designer\"\n",
    "    elif \"teaching\" in tasks or \"academia\" in interest:\n",
    "        return \"Teaching / Academic Career\"\n",
    "    elif \"managing\" in tasks or \"management\" in interest:\n",
    "        return \"Business / Management Role\"\n",
    "    else:\n",
    "        return \"Career Guidance Needed\"\n",
    "\n",
    "# Apply the function to the dataset\n",
    "df2[\"RecommendedCareer\"] = df2.apply(recommend_career, axis=1)\n",
    "\n",
    "\n"
   ]
  },
  {
   "cell_type": "code",
   "execution_count": 11,
   "id": "0b0844e2-7e60-48f7-b260-472daddfc629",
   "metadata": {
    "jupyter": {
     "source_hidden": true
    }
   },
   "outputs": [
    {
     "data": {
      "text/html": [
       "<div>\n",
       "<style scoped>\n",
       "    .dataframe tbody tr th:only-of-type {\n",
       "        vertical-align: middle;\n",
       "    }\n",
       "\n",
       "    .dataframe tbody tr th {\n",
       "        vertical-align: top;\n",
       "    }\n",
       "\n",
       "    .dataframe thead th {\n",
       "        text-align: right;\n",
       "    }\n",
       "</style>\n",
       "<table border=\"1\" class=\"dataframe\">\n",
       "  <thead>\n",
       "    <tr style=\"text-align: right;\">\n",
       "      <th></th>\n",
       "      <th>Email Address</th>\n",
       "      <th>TasksEnjoyed</th>\n",
       "      <th>CareerInterest</th>\n",
       "      <th>RecommendedCareer</th>\n",
       "    </tr>\n",
       "  </thead>\n",
       "  <tbody>\n",
       "    <tr>\n",
       "      <th>0</th>\n",
       "      <td>dhanasreesudhakar29@gmail.com</td>\n",
       "      <td>Teaching or helping others</td>\n",
       "      <td>Teaching / Academia</td>\n",
       "      <td>Teaching / Academic Career</td>\n",
       "    </tr>\n",
       "    <tr>\n",
       "      <th>1</th>\n",
       "      <td>kothaharsh@gmail.com</td>\n",
       "      <td>Managing or leading a team</td>\n",
       "      <td>Business or Management</td>\n",
       "      <td>Business / Management Role</td>\n",
       "    </tr>\n",
       "    <tr>\n",
       "      <th>2</th>\n",
       "      <td>banothnandhini2005@gmail.com</td>\n",
       "      <td>Analyzing data</td>\n",
       "      <td>Data Science / Analytics</td>\n",
       "      <td>Data Analyst</td>\n",
       "    </tr>\n",
       "    <tr>\n",
       "      <th>3</th>\n",
       "      <td>vattipallypoojithasri@gmail.com</td>\n",
       "      <td>Analyzing data</td>\n",
       "      <td>Data Science / Analytics</td>\n",
       "      <td>Data Analyst</td>\n",
       "    </tr>\n",
       "    <tr>\n",
       "      <th>4</th>\n",
       "      <td>kothaharsh@gmail.com</td>\n",
       "      <td>Solving problems, Teaching or helping others, ...</td>\n",
       "      <td>Data Science / Analytics, Business or Management</td>\n",
       "      <td>Data Analyst</td>\n",
       "    </tr>\n",
       "    <tr>\n",
       "      <th>5</th>\n",
       "      <td>varsitayeddula@gmail.com</td>\n",
       "      <td>Solving problems, Teaching or helping others, ...</td>\n",
       "      <td>Software Development, Data Science / Analytics...</td>\n",
       "      <td>Data Analyst</td>\n",
       "    </tr>\n",
       "    <tr>\n",
       "      <th>6</th>\n",
       "      <td>gangapuramdeepak11@gmail.com</td>\n",
       "      <td>Designing things</td>\n",
       "      <td>Software Development, Business or Management</td>\n",
       "      <td>Software Developer</td>\n",
       "    </tr>\n",
       "    <tr>\n",
       "      <th>7</th>\n",
       "      <td>glaasya9@gmail.com</td>\n",
       "      <td>Designing things, Teaching or helping others, ...</td>\n",
       "      <td>Teaching / Academia, Business or Management, C...</td>\n",
       "      <td>Teaching / Academic Career</td>\n",
       "    </tr>\n",
       "    <tr>\n",
       "      <th>8</th>\n",
       "      <td>pragathireddy26032005@gmail.com</td>\n",
       "      <td>Solving problems, Designing things, Teaching o...</td>\n",
       "      <td>Software Development, Teaching / Academia, Bus...</td>\n",
       "      <td>Data Analyst</td>\n",
       "    </tr>\n",
       "    <tr>\n",
       "      <th>9</th>\n",
       "      <td>pallatisowjanya2005@gmail.com</td>\n",
       "      <td>Designing things</td>\n",
       "      <td>Software Development, Data Science / Analytics...</td>\n",
       "      <td>Data Analyst</td>\n",
       "    </tr>\n",
       "  </tbody>\n",
       "</table>\n",
       "</div>"
      ],
      "text/plain": [
       "                     Email Address  \\\n",
       "0    dhanasreesudhakar29@gmail.com   \n",
       "1             kothaharsh@gmail.com   \n",
       "2     banothnandhini2005@gmail.com   \n",
       "3  vattipallypoojithasri@gmail.com   \n",
       "4             kothaharsh@gmail.com   \n",
       "5         varsitayeddula@gmail.com   \n",
       "6     gangapuramdeepak11@gmail.com   \n",
       "7               glaasya9@gmail.com   \n",
       "8  pragathireddy26032005@gmail.com   \n",
       "9    pallatisowjanya2005@gmail.com   \n",
       "\n",
       "                                        TasksEnjoyed  \\\n",
       "0                         Teaching or helping others   \n",
       "1                         Managing or leading a team   \n",
       "2                                     Analyzing data   \n",
       "3                                     Analyzing data   \n",
       "4  Solving problems, Teaching or helping others, ...   \n",
       "5  Solving problems, Teaching or helping others, ...   \n",
       "6                                   Designing things   \n",
       "7  Designing things, Teaching or helping others, ...   \n",
       "8  Solving problems, Designing things, Teaching o...   \n",
       "9                                   Designing things   \n",
       "\n",
       "                                      CareerInterest  \\\n",
       "0                                Teaching / Academia   \n",
       "1                             Business or Management   \n",
       "2                           Data Science / Analytics   \n",
       "3                           Data Science / Analytics   \n",
       "4   Data Science / Analytics, Business or Management   \n",
       "5  Software Development, Data Science / Analytics...   \n",
       "6       Software Development, Business or Management   \n",
       "7  Teaching / Academia, Business or Management, C...   \n",
       "8  Software Development, Teaching / Academia, Bus...   \n",
       "9  Software Development, Data Science / Analytics...   \n",
       "\n",
       "            RecommendedCareer  \n",
       "0  Teaching / Academic Career  \n",
       "1  Business / Management Role  \n",
       "2                Data Analyst  \n",
       "3                Data Analyst  \n",
       "4                Data Analyst  \n",
       "5                Data Analyst  \n",
       "6          Software Developer  \n",
       "7  Teaching / Academic Career  \n",
       "8                Data Analyst  \n",
       "9                Data Analyst  "
      ]
     },
     "execution_count": 11,
     "metadata": {},
     "output_type": "execute_result"
    }
   ],
   "source": [
    "df2[[\"Email Address\", \"TasksEnjoyed\", \"CareerInterest\", \"RecommendedCareer\"]].head(10)\n"
   ]
  },
  {
   "cell_type": "code",
   "execution_count": 12,
   "id": "80a54354-2a4f-4cf1-8ead-e5a9aa1c21a0",
   "metadata": {},
   "outputs": [],
   "source": [
    "df2.to_excel(\"career_recommendations_output.xlsx\", index=False)\n"
   ]
  },
  {
   "cell_type": "code",
   "execution_count": 13,
   "id": "d1e2051c-1347-43ae-8f94-4939d7792308",
   "metadata": {},
   "outputs": [
    {
     "data": {
      "text/plain": [
       "'C:\\\\Users\\\\hp\\\\OneDrive\\\\Desktop\\\\Student_Performance_Project'"
      ]
     },
     "execution_count": 13,
     "metadata": {},
     "output_type": "execute_result"
    }
   ],
   "source": [
    "import os\n",
    "os.getcwd()\n"
   ]
  },
  {
   "cell_type": "code",
   "execution_count": 14,
   "id": "e5f5ba2a-fb0b-46b9-93e4-147d62a484e5",
   "metadata": {},
   "outputs": [],
   "source": [
    "import os\n",
    "\n",
    "os.chdir(\"C:/Users/hp/OneDrive/Desktop/Student_Performance_Project\")\n",
    "\n"
   ]
  },
  {
   "cell_type": "code",
   "execution_count": 15,
   "id": "2c7d7fbb-79dd-4908-83c8-ab96fda7b951",
   "metadata": {},
   "outputs": [],
   "source": [
    "df2.to_excel(\"career_recommendations_output.xlsx\", index=False)\n"
   ]
  },
  {
   "cell_type": "code",
   "execution_count": 16,
   "id": "5f2d3cfd-84df-4b5e-a869-91ce855df620",
   "metadata": {},
   "outputs": [],
   "source": [
    "df2.to_excel(\"career_recommendations_output.xlsx\", index=False)\n"
   ]
  },
  {
   "cell_type": "code",
   "execution_count": null,
   "id": "d40d7006-5877-43cc-a344-faf6b4bd597c",
   "metadata": {},
   "outputs": [],
   "source": []
  }
 ],
 "metadata": {
  "kernelspec": {
   "display_name": "Python 3 (ipykernel)",
   "language": "python",
   "name": "python3"
  },
  "language_info": {
   "codemirror_mode": {
    "name": "ipython",
    "version": 3
   },
   "file_extension": ".py",
   "mimetype": "text/x-python",
   "name": "python",
   "nbconvert_exporter": "python",
   "pygments_lexer": "ipython3",
   "version": "3.13.5"
  }
 },
 "nbformat": 4,
 "nbformat_minor": 5
}
