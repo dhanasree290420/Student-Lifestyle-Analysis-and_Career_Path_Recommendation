{
 "cells": [
  {
   "cell_type": "code",
   "execution_count": 1,
   "id": "14949ae5-27d0-4f46-935a-1b8186d213d2",
   "metadata": {},
   "outputs": [],
   "source": [
    "import pandas as pd\n",
    "\n",
    "# Load both datasets\n",
    "df_lifestyle = pd.read_excel(\"student_lifestyle_data.xlsx\")\n",
    "df_career = pd.read_excel(\"career_recommendations_output.xlsx\")\n"
   ]
  },
  {
   "cell_type": "code",
   "execution_count": 2,
   "id": "aca09696-2aa7-4694-b1dd-cf4a3ffdf424",
   "metadata": {},
   "outputs": [
    {
     "name": "stdout",
     "output_type": "stream",
     "text": [
      "🟢 Lifestyle Data Columns:\n",
      " ['Timestamp', 'Age', 'Gender', 'On average, ow many  do you sleep per nigt?', 'ow many  do you study daily (excluding college)?', 'ow many  do you spend on social media daily?', 'ow many times do you exercise per week?', 'ow would you rate your diet?', '\"On average, ow many college classes or periods do you attend per week?\"  ', 'Your average internal marks (out of 30)', 'Your CGPA or percentage (approximate)']\n",
      "\n",
      "🔵 Career Data Columns:\n",
      " ['Timestamp', 'Email Address', 'TasksEnjoyed', 'WorkPreference', 'CareerInterest', 'RecommendedCareer']\n"
     ]
    }
   ],
   "source": [
    "print(\"🟢 Lifestyle Data Columns:\\n\", df_lifestyle.columns.tolist())\n",
    "print(\"\\n🔵 Career Data Columns:\\n\", df_career.columns.tolist())\n"
   ]
  },
  {
   "cell_type": "code",
   "execution_count": null,
   "id": "e506b5bd-7d0b-4657-82a1-62fd1f90e51d",
   "metadata": {},
   "outputs": [],
   "source": []
  }
 ],
 "metadata": {
  "kernelspec": {
   "display_name": "Python 3 (ipykernel)",
   "language": "python",
   "name": "python3"
  },
  "language_info": {
   "codemirror_mode": {
    "name": "ipython",
    "version": 3
   },
   "file_extension": ".py",
   "mimetype": "text/x-python",
   "name": "python",
   "nbconvert_exporter": "python",
   "pygments_lexer": "ipython3",
   "version": "3.13.5"
  }
 },
 "nbformat": 4,
 "nbformat_minor": 5
}
